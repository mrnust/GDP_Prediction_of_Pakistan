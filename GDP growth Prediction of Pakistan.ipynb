{
 "cells": [
  {
   "cell_type": "markdown",
   "id": "9bde26f1",
   "metadata": {},
   "source": [
    "# GDP growth Prediction of Pakistan"
   ]
  },
  {
   "cell_type": "code",
   "execution_count": 1,
   "id": "f798f291",
   "metadata": {},
   "outputs": [],
   "source": [
    "import numpy as np\n",
    "import pandas as pd\n",
    "import matplotlib.pyplot as plt"
   ]
  },
  {
   "cell_type": "markdown",
   "id": "e868e741",
   "metadata": {},
   "source": [
    "The \"Predicting GDP Growth of Pakistan: A Linear Regression Approach\" project aims to develop a predictive model to forecast the Gross Domestic Product (GDP) growth  of Pakistan. GDP is a vital economic indicator that measures the overall economic performance of a country, and accurate predictions can provide valuable insights for policymakers, businesses, and investors."
   ]
  },
  {
   "cell_type": "code",
   "execution_count": 2,
   "id": "3580e6b2",
   "metadata": {},
   "outputs": [
    {
     "name": "stdout",
     "output_type": "stream",
     "text": [
      "Year: 0     0.000000\n",
      "1     0.027778\n",
      "2     0.055556\n",
      "3     0.083333\n",
      "4     0.111111\n",
      "5     0.138889\n",
      "6     0.166667\n",
      "7     0.194444\n",
      "8     0.222222\n",
      "9     0.250000\n",
      "10    0.277778\n",
      "11    0.305556\n",
      "12    0.333333\n",
      "13    0.361111\n",
      "14    0.388889\n",
      "15    0.416667\n",
      "16    0.444444\n",
      "17    0.472222\n",
      "18    0.500000\n",
      "19    0.527778\n",
      "20    0.555556\n",
      "21    0.583333\n",
      "22    0.611111\n",
      "23    0.638889\n",
      "24    0.666667\n",
      "25    0.694444\n",
      "26    0.722222\n",
      "27    0.750000\n",
      "28    0.777778\n",
      "29    0.805556\n",
      "30    0.833333\n",
      "31    0.861111\n",
      "32    0.888889\n",
      "33    0.916667\n",
      "34    0.944444\n",
      "35    0.972222\n",
      "36    1.000000\n",
      "Name: Year, dtype: float64\n",
      "Gdp growth: 0     0.000000\n",
      "1     0.006429\n",
      "2     0.028869\n",
      "3     0.036148\n",
      "4     0.036784\n",
      "5     0.061075\n",
      "6     0.075237\n",
      "7     0.087912\n",
      "8     0.089762\n",
      "9     0.128791\n",
      "10    0.140617\n",
      "11    0.136796\n",
      "12    0.135523\n",
      "13    0.120815\n",
      "14    0.130155\n",
      "15    0.123241\n",
      "16    0.124939\n",
      "17    0.164877\n",
      "18    0.218674\n",
      "19    0.261099\n",
      "20    0.326783\n",
      "21    0.378396\n",
      "22    0.438804\n",
      "23    0.431132\n",
      "24    0.462973\n",
      "25    0.587245\n",
      "26    0.624090\n",
      "27    0.647350\n",
      "28    0.692413\n",
      "29    0.781629\n",
      "30    0.809346\n",
      "31    0.887009\n",
      "32    0.938349\n",
      "33    0.831938\n",
      "34    0.769287\n",
      "35    0.914301\n",
      "36    1.000000\n",
      "Name: GDP, dtype: float64\n"
     ]
    }
   ],
   "source": [
    "# Read the CSV file into a pandas DataFrame\n",
    "df = pd.read_csv(\"gdp_growth_pakistan.csv\")\n",
    "\n",
    "#year = df['Year']\n",
    "#g_growth = df['GDP']\n",
    "gdp_growth = (df['GDP'] - df['GDP'].min()) / (df['GDP'].max() - df['GDP'].min())\n",
    "\n",
    "# Normalize years to [0, 1]\n",
    "year= (df['Year'] - df['Year'].min()) / (df['Year'].max() - df['Year'].min())\n",
    "\n",
    "# Printing to verify the data\n",
    "print(\"Year:\", year)\n",
    "print(\"Gdp growth:\", gdp_growth)\n"
   ]
  },
  {
   "cell_type": "code",
   "execution_count": 3,
   "id": "3f5672a5",
   "metadata": {},
   "outputs": [
    {
     "name": "stdout",
     "output_type": "stream",
     "text": [
      "The shape of year is: (37,)\n",
      "The shape of gdp growth is:  (37,)\n",
      "Number of training examples (m): 37\n"
     ]
    }
   ],
   "source": [
    "print ('The shape of year is:', year.shape)\n",
    "print ('The shape of gdp growth is: ', gdp_growth.shape)\n",
    "print ('Number of training examples (m):', len(year))"
   ]
  },
  {
   "cell_type": "code",
   "execution_count": 4,
   "id": "7af9d198",
   "metadata": {},
   "outputs": [
    {
     "data": {
      "image/png": "[encoded data removed]",
      "text/plain": [
       "<Figure size 640x480 with 1 Axes>"
      ]
     },
     "metadata": {},
     "output_type": "display_data"
    }
   ],
   "source": [
    "# Create a scatter plot of the data. To change the markers to red \"x\",\n",
    "# we used the 'marker' and 'c' parameters\n",
    "\n",
    "plt.scatter(year, gdp_growth, marker='x', c='r') \n",
    "\n",
    "# Set the title\n",
    "plt.title(\"Gdp vs year\")\n",
    "# Set the y-axis label\n",
    "plt.ylabel('Gdp in Billion USD')\n",
    "# Set the x-axis label\n",
    "plt.xlabel('year')\n",
    "plt.show()"
   ]
  },
  {
   "cell_type": "markdown",
   "id": "eb60af18",
   "metadata": {},
   "source": [
    "# Applying Linear Regression to make predictions"
   ]
  },
  {
   "cell_type": "markdown",
   "id": "9fff0fee",
   "metadata": {},
   "source": [
    "Cost Function"
   ]
  },
  {
   "cell_type": "code",
   "execution_count": 5,
   "id": "f9f00aa8",
   "metadata": {},
   "outputs": [],
   "source": [
    "def cost_func(x,y,w,b):\n",
    "    m=len(year)\n",
    "    total_cost=0\n",
    "    cost=0\n",
    "    for i in range(m):\n",
    "        f_wb=w*x[i]+b\n",
    "        cost+=(f_wb-y[i])**2\n",
    "    total_cost=cost/2*m\n",
    "    return total_cost"
   ]
  },
  {
   "cell_type": "markdown",
   "id": "fc1454f0",
   "metadata": {},
   "source": [
    "Gradient Descent"
   ]
  },
  {
   "cell_type": "code",
   "execution_count": 6,
   "id": "e76c9e5a",
   "metadata": {},
   "outputs": [],
   "source": [
    "def compute_gradient(x,y,w,b):\n",
    "    m=len(year)\n",
    "    dj_dw=0\n",
    "    dj_db=0\n",
    "    for i in range(m):\n",
    "        f_wb=w*x[i]+b\n",
    "        dj_dw+=(f_wb-y[i])*x[i]\n",
    "        dj_db+=f_wb-y[i]\n",
    "    dj_dw=dj_dw/m\n",
    "    dj_db=dj_db/m\n",
    "    \n",
    "    return dj_dw,dj_db"
   ]
  },
  {
   "cell_type": "code",
   "execution_count": 7,
   "id": "eecd59ec",
   "metadata": {},
   "outputs": [],
   "source": [
    "def gradient_descent(x,y,w_in,b_in,cost_func,gradient_fun,alpha,num_iter):\n",
    "    m=len(year)\n",
    "    wpara=w_in\n",
    "    bpara=b_in\n",
    "    for i in range(num_iter):\n",
    "        dj_dw,dj_db=gradient_fun(x,y,wpara,bpara)\n",
    "        \n",
    "        wpara=wpara-alpha*dj_dw\n",
    "        bpara=bpara-alpha*dj_db\n",
    "    \n",
    "    return wpara,bpara"
   ]
  },
  {
   "cell_type": "code",
   "execution_count": 8,
   "id": "f156def3",
   "metadata": {},
   "outputs": [
    {
     "name": "stdout",
     "output_type": "stream",
     "text": [
      "w=  0.815513995841569\n",
      "b=  -0.03140049862051004\n"
     ]
    }
   ],
   "source": [
    "initial_w=0\n",
    "initial_b=0\n",
    "alpha=0.01\n",
    "iterations=2000\n",
    "w,b=gradient_descent(year,gdp_growth,initial_w,initial_b,cost_func,compute_gradient,alpha,iterations)\n",
    "print(\"w= \",w)\n",
    "print(\"b= \",b)"
   ]
  },
  {
   "cell_type": "code",
   "execution_count": 9,
   "id": "dd83ad2b",
   "metadata": {},
   "outputs": [],
   "source": [
    "m = year.shape[0]\n",
    "predicted = np.zeros(m)\n",
    "\n",
    "for i in range(m):\n",
    "    predicted[i] = w * year[i] + b"
   ]
  },
  {
   "cell_type": "code",
   "execution_count": 10,
   "id": "9596291d",
   "metadata": {},
   "outputs": [
    {
     "data": {
      "text/plain": [
       "Text(0.5, 0, 'year')"
      ]
     },
     "execution_count": 10,
     "metadata": {},
     "output_type": "execute_result"
    },
    {
     "data": {
      "image/png": "[encoded data removed]",
      "text/plain": [
       "<Figure size 640x480 with 1 Axes>"
      ]
     },
     "metadata": {},
     "output_type": "display_data"
    }
   ],
   "source": [
    "# Plot the linear fit\n",
    "plt.plot(year, predicted, c = \"b\")\n",
    "\n",
    "# Create a scatter plot of the data. \n",
    "plt.scatter(year, gdp_growth, marker='x', c='r') \n",
    "\n",
    "# Set the title\n",
    "plt.title(\"GDP vs. year\")\n",
    "# Set the y-axis label\n",
    "plt.ylabel('GDP in Billion USD')\n",
    "# Set the x-axis label\n",
    "plt.xlabel('year')"
   ]
  },
  {
   "cell_type": "markdown",
   "id": "4e9e0e8a",
   "metadata": {},
   "source": [
    "Model Trained :) Now use it for making predictions"
   ]
  },
  {
   "cell_type": "code",
   "execution_count": 11,
   "id": "5d32f244",
   "metadata": {},
   "outputs": [
    {
     "name": "stdout",
     "output_type": "stream",
     "text": [
      "GDP = 312.7693750455251 in Billion USD\n"
     ]
    }
   ],
   "source": [
    "# Scale the input year to the range [0, 1]\n",
    "y=2023\n",
    "scaled_year = (y - df['Year'].min()) / (df['Year'].max() - df['Year'].min())\n",
    "\n",
    "predicted_gdp_growth_scaled = w * scaled_year + b\n",
    "\n",
    "# Rescale the predicted GDP growth back to the original range (Billion USD)\n",
    "predicted_gdp_growth = predicted_gdp_growth_scaled * (df['GDP'].max() - df['GDP'].min()) + df['GDP'].min()\n",
    "\n",
    "print(f\"GDP = {predicted_gdp_growth} in Billion USD\")"
   ]
  },
  {
   "cell_type": "code",
   "execution_count": null,
   "id": "f592be86",
   "metadata": {},
   "outputs": [],
   "source": []
  }
 ],
 "metadata": {
  "kernelspec": {
   "display_name": "Python 3 (ipykernel)",
   "language": "python",
   "name": "python3"
  },
  "language_info": {
   "codemirror_mode": {
    "name": "ipython",
    "version": 3
   },
   "file_extension": ".py",
   "mimetype": "text/x-python",
   "name": "python",
   "nbconvert_exporter": "python",
   "pygments_lexer": "ipython3",
   "version": "3.10.9"
  }
 },
 "nbformat": 4,
 "nbformat_minor": 5
}
